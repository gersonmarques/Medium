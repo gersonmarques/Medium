{
 "cells": [
  {
   "cell_type": "markdown",
   "metadata": {},
   "source": [
    "## <font color='grey'>https://medium.com/@gersonmarques</font>\n",
    "\n",
    "# Python: Exercises with lists, strings, tuples and dictionaries"
   ]
  },
  {
   "cell_type": "code",
   "execution_count": 19,
   "metadata": {},
   "outputs": [
    {
     "name": "stdout",
     "output_type": "stream",
     "text": [
      "Python language version used in this Jupyter Notebook: 3.7.6\n"
     ]
    }
   ],
   "source": [
    "# Checking the language Python version in this computer\n",
    "from platform import python_version\n",
    "print('Python language version used in this Jupyter Notebook:', python_version())"
   ]
  },
  {
   "cell_type": "markdown",
   "metadata": {},
   "source": [
    "## Working with Lists"
   ]
  },
  {
   "cell_type": "code",
   "execution_count": 24,
   "metadata": {},
   "outputs": [
    {
     "name": "stdout",
     "output_type": "stream",
     "text": [
      "[1, 2, 3, 4, 5, 6, 7, 8, 9, 10]\n"
     ]
    }
   ],
   "source": [
    "# Print numbers 1 to 10 on the screen using a list to store the numbers:\n",
    "numbersOnetoTen = []\n",
    "count = 1\n",
    "while(count<=10):\n",
    "    numbersOnetoTen.append(count)\n",
    "    count += 1\n",
    "print(numbersOnetoTen)"
   ]
  },
  {
   "cell_type": "code",
   "execution_count": 25,
   "metadata": {},
   "outputs": [
    {
     "data": {
      "text/plain": [
       "['Argentina', 'Brasil', 'Bolivia', 'Peru', 'China']"
      ]
     },
     "execution_count": 25,
     "metadata": {},
     "output_type": "execute_result"
    }
   ],
   "source": [
    "# Create a list with five objects and showing on the screen\n",
    "countries = ['Argentina', 'Brasil', 'Bolivia', 'Peru', 'China']\n",
    "countries"
   ]
  },
  {
   "cell_type": "markdown",
   "metadata": {},
   "source": [
    "## Working with Strings"
   ]
  },
  {
   "cell_type": "code",
   "execution_count": 26,
   "metadata": {},
   "outputs": [
    {
     "data": {
      "text/plain": [
       "'I love Brazil'"
      ]
     },
     "execution_count": 26,
     "metadata": {},
     "output_type": "execute_result"
    }
   ],
   "source": [
    "# Create two strings and concatenate both into a third string\n",
    "firstString = \"I \"\n",
    "secondString = \"love Brazil\"\n",
    "thirhString = firstString + secondString\n",
    "thirhString\n"
   ]
  },
  {
   "cell_type": "markdown",
   "metadata": {},
   "source": [
    "## Working with tuples"
   ]
  },
  {
   "cell_type": "code",
   "execution_count": 11,
   "metadata": {},
   "outputs": [
    {
     "data": {
      "text/plain": [
       "3"
      ]
     },
     "execution_count": 11,
     "metadata": {},
     "output_type": "execute_result"
    }
   ],
   "source": [
    "# Create a tuple with the following elements: 1, 2, 2, 3, 4, 4, 4, 5, and then use the tupla object's count function \n",
    "# to check how many times the number for appears in the tupla\n",
    "\n",
    "numbers = (1,2,2,3,4,4,4,5)\n",
    "numbers.count(4)"
   ]
  },
  {
   "cell_type": "markdown",
   "metadata": {},
   "source": [
    "## Working with dictionaries"
   ]
  },
  {
   "cell_type": "code",
   "execution_count": 12,
   "metadata": {},
   "outputs": [
    {
     "data": {
      "text/plain": [
       "{}"
      ]
     },
     "execution_count": 12,
     "metadata": {},
     "output_type": "execute_result"
    }
   ],
   "source": [
    "# Create a empty dictionary and print on the screen\n",
    "emptyDictionary = {}\n",
    "emptyDictionary"
   ]
  },
  {
   "cell_type": "code",
   "execution_count": 14,
   "metadata": {},
   "outputs": [
    {
     "data": {
      "text/plain": [
       "{1: 'English', 2: 'Mandarin', 3: 'Spanish'}"
      ]
     },
     "execution_count": 14,
     "metadata": {},
     "output_type": "execute_result"
    }
   ],
   "source": [
    "# Create a dictionary with 3 keys and 3 values and print on the screen\n",
    "languages = {1:'English', 2:'Mandarin', 3:'Spanish'}\n",
    "languages"
   ]
  },
  {
   "cell_type": "code",
   "execution_count": 15,
   "metadata": {},
   "outputs": [
    {
     "data": {
      "text/plain": [
       "{1: 'English', 2: 'Mandarin', 3: 'Spanish', 4: 'russian'}"
      ]
     },
     "execution_count": 15,
     "metadata": {},
     "output_type": "execute_result"
    }
   ],
   "source": [
    "# Add one more element to the dictionary created on thepreviusly exercise and print on the screen\n",
    "languages[4] = 'russian'\n",
    "languages"
   ]
  },
  {
   "cell_type": "code",
   "execution_count": 16,
   "metadata": {},
   "outputs": [
    {
     "data": {
      "text/plain": [
       "{1: 'a', 2: 'b', 3: [3.1, 3.2, 3.3]}"
      ]
     },
     "execution_count": 16,
     "metadata": {},
     "output_type": "execute_result"
    }
   ],
   "source": [
    "# Create a dictionary with 3 keys and 3 values. One of the values must be a list of 2 numeric elements.\n",
    "someDictionary = {1:'a',2:'b',3:[3.1,3.2,3.3]}\n",
    "someDictionary"
   ]
  },
  {
   "cell_type": "code",
   "execution_count": 17,
   "metadata": {},
   "outputs": [
    {
     "data": {
      "text/plain": [
       "['element1', (5, 6), {1: 'one', 2: 'two'}]"
      ]
     },
     "execution_count": 17,
     "metadata": {},
     "output_type": "execute_result"
    }
   ],
   "source": [
    "# Create a list of 4 leements. The first element must be a string, the second a tuple of 2 elements,\n",
    "# the thrid a dictionary with 2 keys and 2 values, and the fourth element a float type value.\n",
    "someList = [\"element1\",(5,6),{1:'one', 2:'two'}]\n",
    "someList"
   ]
  },
  {
   "cell_type": "code",
   "execution_count": 18,
   "metadata": {},
   "outputs": [
    {
     "data": {
      "text/plain": [
       "'ata scientist is '"
      ]
     },
     "execution_count": 18,
     "metadata": {},
     "output_type": "execute_result"
    }
   ],
   "source": [
    "# Consider the string below. Print on the screen only the characters from position 1 to 18\n",
    "phrase = 'Data scientist is the sexyest professional of the 21st century'\n",
    "phrase[1:18]"
   ]
  },
  {
   "cell_type": "markdown",
   "metadata": {},
   "source": [
    "## <font color='grey'>https://medium.com/@gersonmarques</font>"
   ]
  },
  {
   "cell_type": "markdown",
   "metadata": {},
   "source": []
  }
 ],
 "metadata": {
  "kernelspec": {
   "display_name": "Python 3",
   "language": "python",
   "name": "python3"
  },
  "language_info": {
   "codemirror_mode": {
    "name": "ipython",
    "version": 3
   },
   "file_extension": ".py",
   "mimetype": "text/x-python",
   "name": "python",
   "nbconvert_exporter": "python",
   "pygments_lexer": "ipython3",
   "version": "3.7.6"
  }
 },
 "nbformat": 4,
 "nbformat_minor": 1
}
