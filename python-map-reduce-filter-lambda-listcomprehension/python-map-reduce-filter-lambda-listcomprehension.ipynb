{
 "cells": [
  {
   "cell_type": "markdown",
   "metadata": {},
   "source": [
    "## <font color='grey'>https://medium.com/@gersonmarques</font>\n",
    "\n",
    "# Python:  Exercises of map, reduce, filter, lambda and list comprehension"
   ]
  },
  {
   "cell_type": "code",
   "execution_count": 1,
   "metadata": {},
   "outputs": [
    {
     "name": "stdout",
     "output_type": "stream",
     "text": [
      "Python language version used in this Jupyter Notebook: 3.7.6\n"
     ]
    }
   ],
   "source": [
    "# Checking the language Python version in this computer\n",
    "from platform import python_version\n",
    "print('Python language version used in this Jupyter Notebook:', python_version())"
   ]
  },
  {
   "cell_type": "markdown",
   "metadata": {},
   "source": [
    "### Create a list of 3 elements and calculate the third potency of each element using a list compreension"
   ]
  },
  {
   "cell_type": "code",
   "execution_count": 7,
   "metadata": {},
   "outputs": [
    {
     "name": "stdout",
     "output_type": "stream",
     "text": [
      "[27, 125, 125]\n"
     ]
    }
   ],
   "source": [
    "numbers = [3, 5, 5]\n",
    "results = list()\n",
    "results = [item**3 for item in numbers]\n",
    "print(results)"
   ]
  },
  {
   "cell_type": "markdown",
   "metadata": {},
   "source": [
    "### Rewrite the code below, using the map () function. The end result must be the same."
   ]
  },
  {
   "cell_type": "code",
   "execution_count": 28,
   "metadata": {},
   "outputs": [
    {
     "name": "stdout",
     "output_type": "stream",
     "text": [
      "['DATA', 'data', 4]\n",
      "['SCIENCE', 'science', 7]\n",
      "['ACADEMY', 'academy', 7]\n",
      "['OFFERS', 'offers', 6]\n",
      "['THE', 'the', 3]\n",
      "['BEST', 'best', 4]\n",
      "['DATA', 'data', 4]\n",
      "['ANALYSIS', 'analysis', 8]\n",
      "['COURSES', 'courses', 7]\n",
      "['IN', 'in', 2]\n",
      "['BRAZIL', 'brazil', 6]\n"
     ]
    }
   ],
   "source": [
    "words = 'Data Science Academy offers the best data analysis courses in Brazil'.split()\n",
    "results = map(lambda w: [w.upper(), w.lower(), len(w)], words)\n",
    "for i in results:\n",
    "    print(i)"
   ]
  },
  {
   "cell_type": "code",
   "execution_count": 1,
   "metadata": {},
   "outputs": [
    {
     "name": "stdout",
     "output_type": "stream",
     "text": [
      "[[1, 3, 5, 7], [2, 4, 6, 8]]\n"
     ]
    }
   ],
   "source": [
    "# Calculate the matrix transposed from the matrix below\n",
    "# In case you you don't know aht is matrix transposed, visit https://pt.wikipedia.org/wiki/Matriz_transposta\n",
    "# Transposed matrix is a fundamental concept in the construction of artificial neural networks, the basis of IA systems.\n",
    "\n",
    "matrix = [[1, 2],[3,4],[5,6],[7,8]]\n",
    "transpose = [[row[i] for row in matrix] for i in range(2)]\n",
    "print(transpose)\n"
   ]
  },
  {
   "cell_type": "code",
   "execution_count": 8,
   "metadata": {},
   "outputs": [
    {
     "name": "stdout",
     "output_type": "stream",
     "text": [
      "[0, 0]\n",
      "[1, 1]\n",
      "[4, 8]\n",
      "[9, 27]\n",
      "[16, 64]\n"
     ]
    }
   ],
   "source": [
    "# Create two functions, one to elevate a number to square and the second to elevate to cube\n",
    "# Run both functions to the elements at the same time.\n",
    "\n",
    "listOfNumbers = [0, 1, 2, 3, 4]\n",
    "\n",
    "def cube(n):\n",
    "    return (n**2)\n",
    "\n",
    "def square(n):\n",
    "    return (n**3)\n",
    "\n",
    "funcs = [cube, square]\n",
    "\n",
    "for i in listOfNumbers:\n",
    "    results = map(lambda x: x(i), funcs)\n",
    "    print(list(results))"
   ]
  },
  {
   "cell_type": "code",
   "execution_count": 13,
   "metadata": {},
   "outputs": [
    {
     "data": {
      "text/plain": [
       "[1024, 177147, 16777216]"
      ]
     },
     "execution_count": 13,
     "metadata": {},
     "output_type": "execute_result"
    }
   ],
   "source": [
    "# Elevate each number of the list to the corresponding number of the other list\n",
    "\n",
    "listA = [2, 3, 4]\n",
    "listB = [10, 11, 12]\n",
    "list(map(pow, listA, listB))"
   ]
  },
  {
   "cell_type": "code",
   "execution_count": 14,
   "metadata": {},
   "outputs": [
    {
     "data": {
      "text/plain": [
       "[-5, -4, -3, -2, -1]"
      ]
     },
     "execution_count": 14,
     "metadata": {},
     "output_type": "execute_result"
    }
   ],
   "source": [
    "# Considering the range of values below, use the function filter to return only negative numbers.\n",
    "range(-5, 5)\n",
    "list(filter((lambda x: x < 0), range(-5,5)))"
   ]
  },
  {
   "cell_type": "code",
   "execution_count": 15,
   "metadata": {},
   "outputs": [
    {
     "name": "stdout",
     "output_type": "stream",
     "text": [
      "[2, 3, 5, 7]\n"
     ]
    }
   ],
   "source": [
    "# Using the filter function, find the values that are common to the two lists bellow\n",
    "\n",
    "a = [1,2,3,5,7,9]\n",
    "b = [2,3,5,6,7,8]\n",
    "\n",
    "print (list(filter(lambda x: x in a, b)))"
   ]
  },
  {
   "cell_type": "code",
   "execution_count": 16,
   "metadata": {},
   "outputs": [
    {
     "name": "stdout",
     "output_type": "stream",
     "text": [
      "23/09/2020 10:17\n",
      "23/09/2020 10:17\n"
     ]
    }
   ],
   "source": [
    "# Consider the code below. Get the same result using the time package\n",
    "\n",
    "import datetime\n",
    "print (datetime.datetime.now().strftime(\"%d/%m/%Y %H:%M\"))\n",
    "\n",
    "import time\n",
    "print (time.strftime(\"%d/%m/%Y %H:%M\"))"
   ]
  },
  {
   "cell_type": "code",
   "execution_count": 17,
   "metadata": {},
   "outputs": [
    {
     "name": "stdout",
     "output_type": "stream",
     "text": [
      "{'a': 4, 'b': 5}\n"
     ]
    }
   ],
   "source": [
    "# Consider the two dictionaries below. Create a third dictionary with dictionary keys 1 and dictionary values 2.\n",
    "\n",
    "dict1 = {'a':1,'b':2}\n",
    "dict2 = {'c':4,'d':5}\n",
    "\n",
    "def changeValues(d1, d2):\n",
    "    dicTemp = {}\n",
    "    \n",
    "    for d1key, d2val in zip(d1,d2.values()):\n",
    "        dicTemp[d1key] = d2val\n",
    "    \n",
    "    return dicTemp\n",
    "\n",
    "dict3 = changeValues(dict1, dict2)\n",
    "print(dict3)\n"
   ]
  },
  {
   "cell_type": "code",
   "execution_count": 22,
   "metadata": {},
   "outputs": [
    {
     "name": "stdout",
     "output_type": "stream",
     "text": [
      "g\n",
      "h\n"
     ]
    }
   ],
   "source": [
    "# Consider the list below and return only those elements whose index is greatter than 5\n",
    "\n",
    "lista = ['a', 'b', 'c', 'd', 'e', 'f', 'g', 'h']\n",
    "for indice, valor in enumerate(lista):\n",
    "    if indice <= 5:\n",
    "        continue\n",
    "    else:\n",
    "        print (valor)"
   ]
  },
  {
   "cell_type": "markdown",
   "metadata": {},
   "source": [
    "### Obrigado - Data Science Academy - <a href=\"http://facebook.com/dsacademybr\">facebook.com/dsacademybr</a>"
   ]
  }
 ],
 "metadata": {
  "kernelspec": {
   "display_name": "Python 3",
   "language": "python",
   "name": "python3"
  },
  "language_info": {
   "codemirror_mode": {
    "name": "ipython",
    "version": 3
   },
   "file_extension": ".py",
   "mimetype": "text/x-python",
   "name": "python",
   "nbconvert_exporter": "python",
   "pygments_lexer": "ipython3",
   "version": "3.7.6"
  }
 },
 "nbformat": 4,
 "nbformat_minor": 1
}
