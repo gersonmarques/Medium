{
 "cells": [
  {
   "cell_type": "markdown",
   "metadata": {},
   "source": [
    "## <font color='grey'>https://medium.com/@gersonmarques</font>\n",
    "# Python: loops and conditional exercises"
   ]
  },
  {
   "cell_type": "code",
   "execution_count": 1,
   "metadata": {},
   "outputs": [
    {
     "name": "stdout",
     "output_type": "stream",
     "text": [
      "Python language version used in this Jupyter Notebook: 3.7.6\n"
     ]
    }
   ],
   "source": [
    "# Checking the language Python version in this computer\n",
    "from platform import python_version\n",
    "print('Python language version used in this Jupyter Notebook:', python_version())"
   ]
  },
  {
   "cell_type": "markdown",
   "metadata": {},
   "source": [
    "### Create a structure that asks the user what day of the week. If the day is equal to Sunday, or equal to Saturday, print on the screen: \"Today is rest day\", otherwise print on the screen: \"You need to work\""
   ]
  },
  {
   "cell_type": "code",
   "execution_count": 18,
   "metadata": {},
   "outputs": [
    {
     "name": "stdout",
     "output_type": "stream",
     "text": [
      "What day is today?Sunday\n",
      "Today is rest day\n"
     ]
    }
   ],
   "source": [
    "day = input('What day is today?')\n",
    "if(day == \"Sunday\" or day == \"Saturday\"):\n",
    "    answer = \"Today is a rest day\";\n",
    "else: \n",
    "    answer = \"You have to work\";\n",
    "print(answer)"
   ]
  },
  {
   "cell_type": "markdown",
   "metadata": {},
   "source": [
    "### Create a list of 5 fruits and verify if the Strawberry fruit is part of the list"
   ]
  },
  {
   "cell_type": "code",
   "execution_count": null,
   "metadata": {},
   "outputs": [],
   "source": [
    "fruits = ['orange', 'banana', 'strawberry', 'avocato', 'lemon']\n",
    "fruit = 'orange'\n",
    "isOnTheList = 0\n",
    "for i in fruits:\n",
    "    if i == fruit:\n",
    "        isOnTheList = 1\n",
    "    else:\n",
    "        isOnTheList = 0\n",
    "\n",
    "if(isOnTheList == 1):\n",
    "    print('strawberry is in the list')\n",
    "else:\n",
    "    print('strawberry is NOT in the list')"
   ]
  },
  {
   "cell_type": "markdown",
   "metadata": {},
   "source": [
    "### Create a tuple of 4 elements, multiply each element of the tuple by 2 and save the results in a list"
   ]
  },
  {
   "cell_type": "code",
   "execution_count": 22,
   "metadata": {},
   "outputs": [
    {
     "name": "stdout",
     "output_type": "stream",
     "text": [
      "[4, 8, 12, 8]\n"
     ]
    }
   ],
   "source": [
    "tupleElements = (2, 4, 6, 4)\n",
    "listElements = []\n",
    "calculator = 0\n",
    "\n",
    "for i in tupleElements:\n",
    "    results = i * 2\n",
    "    listElements.append(results)\n",
    "    \n",
    "print(listElements)"
   ]
  },
  {
   "cell_type": "markdown",
   "metadata": {},
   "source": [
    "### Create a sequence of even numbers between 100 and 150 and print on the screen"
   ]
  },
  {
   "cell_type": "code",
   "execution_count": 26,
   "metadata": {},
   "outputs": [
    {
     "name": "stdout",
     "output_type": "stream",
     "text": [
      "100\n",
      "102\n",
      "104\n",
      "106\n",
      "108\n",
      "110\n",
      "112\n",
      "114\n",
      "116\n",
      "118\n",
      "120\n",
      "122\n",
      "124\n",
      "126\n",
      "128\n",
      "130\n",
      "132\n",
      "134\n",
      "136\n",
      "138\n",
      "140\n",
      "142\n",
      "144\n",
      "146\n",
      "148\n",
      "150\n"
     ]
    }
   ],
   "source": [
    "start = 100\n",
    "end = 151\n",
    "interval = 2\n",
    "for i in range(start, end, interval):\n",
    "    print(i)"
   ]
  },
  {
   "cell_type": "markdown",
   "metadata": {},
   "source": [
    "### Create a variable called temperature and assign the value 40. As long as the temperature is greater than 35, print the temperature on the screen"
   ]
  },
  {
   "cell_type": "code",
   "execution_count": 33,
   "metadata": {},
   "outputs": [
    {
     "name": "stdout",
     "output_type": "stream",
     "text": [
      "40\n",
      "39\n",
      "38\n",
      "37\n",
      "36\n"
     ]
    }
   ],
   "source": [
    "temperature = 40\n",
    "while(temperature > 35):\n",
    "    print(temperature)\n",
    "    temperature -= 1\n"
   ]
  },
  {
   "cell_type": "markdown",
   "metadata": {},
   "source": [
    "### Create a variable called counter = 0. While counter is less than 100, print the values on the screen, but when the value 23 is found, stop de program execution."
   ]
  },
  {
   "cell_type": "code",
   "execution_count": 25,
   "metadata": {},
   "outputs": [
    {
     "name": "stdout",
     "output_type": "stream",
     "text": [
      "0\n",
      "1\n",
      "2\n",
      "3\n",
      "4\n",
      "5\n",
      "6\n",
      "7\n",
      "8\n",
      "9\n",
      "10\n",
      "11\n",
      "12\n",
      "13\n",
      "14\n",
      "15\n",
      "16\n",
      "17\n",
      "18\n",
      "19\n",
      "20\n",
      "21\n",
      "22\n"
     ]
    }
   ],
   "source": [
    "counter = 0\n",
    "while(counter < 100):\n",
    "    print(counter)\n",
    "    counter += 1\n",
    "    if(counter == 23):\n",
    "        break"
   ]
  },
  {
   "cell_type": "markdown",
   "metadata": {},
   "source": [
    "### Create an empty list and a variable with a value of 4. As long as the value of the variable is less than or equal to 20, add only even values to the list and print the list"
   ]
  },
  {
   "cell_type": "code",
   "execution_count": 4,
   "metadata": {},
   "outputs": [
    {
     "name": "stdout",
     "output_type": "stream",
     "text": [
      "[4, 6, 8, 10, 12, 14, 16, 18, 20]\n"
     ]
    }
   ],
   "source": [
    "myNumbers = list()\n",
    "count = 4\n",
    "end = 20\n",
    "\n",
    "while(count<=end):\n",
    "    myNumbers.append(count)\n",
    "    count += 2\n",
    "print(myNumbers)"
   ]
  },
  {
   "cell_type": "markdown",
   "metadata": {},
   "source": [
    "### Make the result of this range function into a list: range (5, 45, 2)"
   ]
  },
  {
   "cell_type": "code",
   "execution_count": 7,
   "metadata": {},
   "outputs": [
    {
     "name": "stdout",
     "output_type": "stream",
     "text": [
      "[5, 7, 9, 11, 13, 15, 17, 19, 21, 23, 25, 27, 29, 31, 33, 35, 37, 39, 41, 43]\n"
     ]
    }
   ],
   "source": [
    "nums = range(5, 45, 2)\n",
    "print(list(nums))"
   ]
  },
  {
   "cell_type": "markdown",
   "metadata": {},
   "source": [
    "### Correct the errors in the code below and run the program"
   ]
  },
  {
   "cell_type": "code",
   "execution_count": 9,
   "metadata": {},
   "outputs": [
    {
     "name": "stdout",
     "output_type": "stream",
     "text": [
      "What is the temperature?3\n",
      "Get your coats.\n"
     ]
    }
   ],
   "source": [
    "temperature = float(input('What is the temperature?'))\n",
    "if temperature > 30:\n",
    "    print('Wear light clothing.')\n",
    "else:\n",
    "    print('Get your coats.')"
   ]
  },
  {
   "cell_type": "markdown",
   "metadata": {},
   "source": [
    "### Develop a program that counts how many times the letter \"r\" appears in the phrase bellow. Use a placeholder  in your printing instruction"
   ]
  },
  {
   "cell_type": "code",
   "execution_count": 27,
   "metadata": {},
   "outputs": [
    {
     "name": "stdout",
     "output_type": "stream",
     "text": [
      "The character r appears 5 times in the frase\n"
     ]
    }
   ],
   "source": [
    "phrase = \"It's better, much better, to be content with reality; if it's not so bright as dreams, it has at least the advantage of existing. (Machado de Assis)\"\n",
    "count = 0\n",
    "\n",
    "for caracter in phrase:\n",
    "    if caracter == \"r\":\n",
    "        count += 1;\n",
    "print(\"The character r appears %s times in the frase\" %(count))\n"
   ]
  },
  {
   "cell_type": "code",
   "execution_count": null,
   "metadata": {},
   "outputs": [],
   "source": []
  },
  {
   "cell_type": "code",
   "execution_count": null,
   "metadata": {},
   "outputs": [],
   "source": []
  }
 ],
 "metadata": {
  "kernelspec": {
   "display_name": "Python 3",
   "language": "python",
   "name": "python3"
  },
  "language_info": {
   "codemirror_mode": {
    "name": "ipython",
    "version": 3
   },
   "file_extension": ".py",
   "mimetype": "text/x-python",
   "name": "python",
   "nbconvert_exporter": "python",
   "pygments_lexer": "ipython3",
   "version": "3.7.6"
  }
 },
 "nbformat": 4,
 "nbformat_minor": 1
}
