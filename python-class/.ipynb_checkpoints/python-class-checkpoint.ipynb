{
 "cells": [
  {
   "cell_type": "markdown",
   "metadata": {},
   "source": [
    "## <font color='grey'>https://medium.com/@gersonmarques</font>\n",
    "\n",
    "# Python:  working with class"
   ]
  },
  {
   "cell_type": "markdown",
   "metadata": {},
   "source": [
    "### Checking the language Python version in this computer"
   ]
  },
  {
   "cell_type": "code",
   "execution_count": 1,
   "metadata": {},
   "outputs": [
    {
     "name": "stdout",
     "output_type": "stream",
     "text": [
      "Python language version used in this Jupyter Notebook: 3.7.6\n"
     ]
    }
   ],
   "source": [
    "from platform import python_version\n",
    "print('Python language version used in this Jupyter Notebook:', python_version())"
   ]
  },
  {
   "cell_type": "markdown",
   "metadata": {},
   "source": [
    "### Create an object from the class below, called roc1, passing 2 parameters and then make a call to the attributes and methods"
   ]
  },
  {
   "cell_type": "code",
   "execution_count": 29,
   "metadata": {},
   "outputs": [
    {
     "name": "stdout",
     "output_type": "stream",
     "text": [
      "10 20\n",
      "40 60\n"
     ]
    }
   ],
   "source": [
    "from math import sqrt\n",
    "\n",
    "class Rocket():\n",
    "     \n",
    "    def __init__(self, x=0, y=0):\n",
    "        self.x = x\n",
    "        self.y = y\n",
    "        \n",
    "    def move_rocket(self, x_increment=0, y_increment=1):\n",
    "        self.x += x_increment\n",
    "        self.y += y_increment\n",
    "        \n",
    "    def print_rocket(self):\n",
    "        print(self.x, self.y)\n",
    "\n",
    "roc1 = Rocket(10, 20)\n",
    "roc1.x\n",
    "roc1.y\n",
    "roc1.print_rocket()   \n",
    "roc1.move_rocket(30, 40)\n",
    "roc1.print_rocket()   "
   ]
  },
  {
   "cell_type": "markdown",
   "metadata": {},
   "source": [
    "### Create a class called Person () with the attributes: name, city, phone and email.  Use at least 2 special methods of its class. Create an object of your class and make a call to at least one of its special methods."
   ]
  },
  {
   "cell_type": "code",
   "execution_count": 23,
   "metadata": {},
   "outputs": [
    {
     "data": {
      "text/plain": [
       "'Hy, my name is Albert, I live in Switzerland and my contacts are email: pele@gmail.com, phone +512199887766'"
      ]
     },
     "execution_count": 23,
     "metadata": {},
     "output_type": "execute_result"
    }
   ],
   "source": [
    "class Person():\n",
    "    def __init__(self, name, city, phone, email):\n",
    "        self.name = name\n",
    "        self.city = city\n",
    "        self.phone = phone\n",
    "        self.email = email\n",
    "        \n",
    "    def __str__(self):\n",
    "        return \"Hy, my name is \" + self.name + \", I live in \" + self.city + \" and my contacts are email: \" + self.email + \", phone \" + str(self.phone)\n",
    "        \n",
    "Person1 = Person(\"Albert\", \"Switzerland\", \"+512199887766\", \"pele@gmail.com\")\n",
    "str(Person1)\n",
    "        \n"
   ]
  },
  {
   "cell_type": "markdown",
   "metadata": {},
   "source": [
    "### Create the Smartphone class with 2 attributes, size and interface, and create the MP3Player class with the capacity attribute. The class MP3player must heritage the attributes from Smartphone."
   ]
  },
  {
   "cell_type": "code",
   "execution_count": 28,
   "metadata": {},
   "outputs": [
    {
     "name": "stdout",
     "output_type": "stream",
     "text": [
      "Object created: small led 64 GB\n"
     ]
    }
   ],
   "source": [
    "class Smartphone(object):\n",
    "    def __init__(self, size, interface):\n",
    "        self.size = size\n",
    "        self.interface = interface\n",
    "        \n",
    "class MP3Player():\n",
    "    def __init__(self, capacity, size = 'small', interface = 'led'):\n",
    "        self.capacity = capacity\n",
    "        Smartphone.__init__(self, size, interface)\n",
    "        \n",
    "    def print_mp3player(self):\n",
    "        print(\"Object created: %s %s %s\" %(self.size, self.interface, self.capacity))\n",
    "    \n",
    "device1 = MP3Player('64 GB')\n",
    "device1.print_mp3player()\n",
    "        "
   ]
  },
  {
   "cell_type": "code",
   "execution_count": null,
   "metadata": {},
   "outputs": [],
   "source": []
  }
 ],
 "metadata": {
  "kernelspec": {
   "display_name": "Python 3",
   "language": "python",
   "name": "python3"
  },
  "language_info": {
   "codemirror_mode": {
    "name": "ipython",
    "version": 3
   },
   "file_extension": ".py",
   "mimetype": "text/x-python",
   "name": "python",
   "nbconvert_exporter": "python",
   "pygments_lexer": "ipython3",
   "version": "3.7.6"
  }
 },
 "nbformat": 4,
 "nbformat_minor": 1
}
